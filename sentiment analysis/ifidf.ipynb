{
 "cells": [
  {
   "cell_type": "code",
   "execution_count": 2,
   "metadata": {},
   "outputs": [
    {
     "name": "stderr",
     "output_type": "stream",
     "text": [
      "D:\\Anaconda\\lib\\site-packages\\sklearn\\ensemble\\weight_boosting.py:29: DeprecationWarning: numpy.core.umath_tests is an internal NumPy module and should not be imported. It will be removed in a future NumPy release.\n",
      "  from numpy.core.umath_tests import inner1d\n"
     ]
    }
   ],
   "source": [
    "from sklearn.feature_extraction.text import TfidfVectorizer, CountVectorizer\n",
    "from sklearn.linear_model import LogisticRegression\n",
    "from sklearn import svm\n",
    "from sklearn.metrics import accuracy_score, classification_report\n",
    "from sklearn.ensemble import RandomForestClassifier, VotingClassifier, BaggingClassifier\n",
    "from sklearn.neural_network import MLPClassifier\n",
    "from sklearn.naive_bayes import MultinomialNB\n",
    "from sklearn.tree import DecisionTreeClassifier\n",
    "from sklearn.svm import LinearSVC\n",
    "import glob\n",
    "import re\n"
   ]
  },
  {
   "cell_type": "code",
   "execution_count": 3,
   "metadata": {
    "collapsed": true
   },
   "outputs": [],
   "source": [
    "def clean_doc(doc):\n",
    "    doc = re.sub(r'[.,?,:,\\,=,^/,\\-,(,),+,;,|,!,*,#,<,>,\\',\\n]', ' ', doc)\n",
    "    doc = re.sub(r\"\\d+.{0,1}\\d+\", \" number \", doc)\n",
    "    doc = re.sub(r\"\\d+\", \" number \", doc)\n",
    "    doc = re.sub(' +',' ', doc)\n",
    "    return doc.strip().lower()"
   ]
  },
  {
   "cell_type": "code",
   "execution_count": 5,
   "metadata": {
    "collapsed": true
   },
   "outputs": [],
   "source": [
    "def load_data(path='data/sentiment/train'):\n",
    "    pos_paths = glob.glob(path+'//pos//*.txt')\n",
    "    neg_paths = glob.glob(path+'//neg//*.txt')\n",
    "    \n",
    "    pos_text = []\n",
    "    for path in pos_paths:\n",
    "        with open(path, 'r', encoding='utf8') as f:\n",
    "            text = f.read()\n",
    "            pos_text.append(text)\n",
    "    neg_text = []\n",
    "    for path in neg_paths:\n",
    "        with open(path, 'r', encoding='utf8') as f:\n",
    "            text = f.read()\n",
    "            neg_text.append(text)\n",
    "    samples = pos_text + neg_text\n",
    "    labels = [1 for _ in range(len(pos_text))] +  [-1 for _ in range(len(neg_text))]\n",
    "    return samples, labels"
   ]
  },
  {
   "cell_type": "code",
   "execution_count": 6,
   "metadata": {
    "collapsed": true
   },
   "outputs": [],
   "source": [
    "samples, labels = load_data('D://Learn Python//data//sentiment//train')"
   ]
  },
  {
   "cell_type": "code",
   "execution_count": 7,
   "metadata": {
    "collapsed": true
   },
   "outputs": [],
   "source": [
    "samples = [clean_doc(doc) for doc in samples]"
   ]
  },
  {
   "cell_type": "code",
   "execution_count": 8,
   "metadata": {
    "collapsed": true
   },
   "outputs": [],
   "source": [
    "tv = TfidfVectorizer(min_df = 5, max_df = 0.5, max_features=5000)"
   ]
  },
  {
   "cell_type": "code",
   "execution_count": 9,
   "metadata": {
    "collapsed": true
   },
   "outputs": [],
   "source": [
    "X = tv.fit_transform(samples)"
   ]
  },
  {
   "cell_type": "code",
   "execution_count": 10,
   "metadata": {},
   "outputs": [
    {
     "data": {
      "text/plain": [
       "(30000, 5000)"
      ]
     },
     "execution_count": 10,
     "metadata": {},
     "output_type": "execute_result"
    }
   ],
   "source": [
    "X.shape"
   ]
  },
  {
   "cell_type": "code",
   "execution_count": 11,
   "metadata": {},
   "outputs": [
    {
     "data": {
      "text/plain": [
       "'xe_đẩy bán cơm_chiên nằm ngay đầu đường vào khu dân_cư metro chạy từ ngoài vô là xe thứ_hai nhé mình hay mua cơm của chị này lắm cơm_chiên mềm nóng_ăn chung với trứng chiên lạp_xưởng thịt heo và chà bông nên vừa ăn lắm mà có thêm dưa_leo và cà_chua nên ăn_không ngán ăn xong hợp cơm là bao no đến trưa giá chủ có number hộp à buổi_sáng rất đông người ghé mua vì bán vừa ngon vừa rẻ lại ăn rất no tuy đông nhưng chị làm nhanh lắm mà nói_chuyện với khách cũng vui_vẻ lịch_sự nữa nên lần nào đi ngang buổi_sáng là ghé mua hoài à'"
      ]
     },
     "execution_count": 11,
     "metadata": {},
     "output_type": "execute_result"
    }
   ],
   "source": [
    "samples[0]"
   ]
  },
  {
   "cell_type": "code",
   "execution_count": 12,
   "metadata": {
    "collapsed": true
   },
   "outputs": [],
   "source": [
    "sample_test, label_test = load_data('D://Learn Python//data//sentiment//test')"
   ]
  },
  {
   "cell_type": "code",
   "execution_count": 13,
   "metadata": {
    "collapsed": true
   },
   "outputs": [],
   "source": [
    "sample_test = [clean_doc(doc) for doc in sample_test]"
   ]
  },
  {
   "cell_type": "code",
   "execution_count": 14,
   "metadata": {
    "collapsed": true
   },
   "outputs": [],
   "source": [
    "X_test = tv.transform(sample_test)"
   ]
  },
  {
   "cell_type": "code",
   "execution_count": 15,
   "metadata": {},
   "outputs": [
    {
     "data": {
      "text/plain": [
       "(10000, 5000)"
      ]
     },
     "execution_count": 15,
     "metadata": {},
     "output_type": "execute_result"
    }
   ],
   "source": [
    "X_test.shape"
   ]
  },
  {
   "cell_type": "code",
   "execution_count": 17,
   "metadata": {},
   "outputs": [
    {
     "data": {
      "text/plain": [
       "'đây là nhà_thờ được cho là lớn nhất huế lại nằm gần_như ở trung_tâm thành_phố với lối kiến_trúc của người pháp nhà_thờ mang nét cổ_kính pha lẫn với hiện_đại rất châu âu nên bản_thân mình thấy kiến_trúc nhà_thờ rất đẹp toát lên cái cao_quý của nhà_thờ không_gian ở đây khá yên_bình và mỗi dịp giáng_sinh về nơi đây luôn là nơi rực_rỡ và đẹp nhất'"
      ]
     },
     "execution_count": 17,
     "metadata": {},
     "output_type": "execute_result"
    }
   ],
   "source": [
    "sample_test[0]"
   ]
  },
  {
   "cell_type": "code",
   "execution_count": 18,
   "metadata": {
    "collapsed": true
   },
   "outputs": [],
   "source": [
    "log_clf = LogisticRegression(C=1.5)"
   ]
  },
  {
   "cell_type": "code",
   "execution_count": 19,
   "metadata": {
    "collapsed": true
   },
   "outputs": [],
   "source": [
    "mlp_clf = MLPClassifier(hidden_layer_sizes=(100,100,100,))"
   ]
  },
  {
   "cell_type": "code",
   "execution_count": 20,
   "metadata": {
    "collapsed": true
   },
   "outputs": [],
   "source": [
    "rf_clf = RandomForestClassifier(max_depth=30)"
   ]
  },
  {
   "cell_type": "code",
   "execution_count": 21,
   "metadata": {
    "collapsed": true
   },
   "outputs": [],
   "source": [
    "mb_clf = MultinomialNB()"
   ]
  },
  {
   "cell_type": "code",
   "execution_count": 22,
   "metadata": {
    "collapsed": true
   },
   "outputs": [],
   "source": [
    "svm_clf = LinearSVC(C=0.1)"
   ]
  },
  {
   "cell_type": "code",
   "execution_count": 23,
   "metadata": {
    "collapsed": true
   },
   "outputs": [],
   "source": [
    "estimators=[('lr', log_clf),\n",
    "                ('mlp', mlp_clf), \n",
    "                ('rf', rf_clf),\n",
    "                ('mb', mb_clf),\n",
    "                ('svm', svm_clf)]"
   ]
  },
  {
   "cell_type": "code",
   "execution_count": 24,
   "metadata": {
    "collapsed": true
   },
   "outputs": [],
   "source": [
    "voting_clf = VotingClassifier(\n",
    "            estimators=estimators,\n",
    "            voting='hard')"
   ]
  },
  {
   "cell_type": "code",
   "execution_count": null,
   "metadata": {},
   "outputs": [
    {
     "name": "stdout",
     "output_type": "stream",
     "text": [
      "LogisticRegression 0.8847\n",
      "MLPClassifier 0.8619\n",
      "RandomForestClassifier 0.8016\n",
      "MultinomialNB 0.8531\n",
      "LinearSVC 0.8853\n"
     ]
    }
   ],
   "source": [
    "for clf in (log_clf,mlp_clf,rf_clf,mb_clf,svm_clf,voting_clf):\n",
    "        clf.fit(X, labels)\n",
    "        y_pred = clf.predict(X_test)\n",
    "        print(clf.__class__.__name__, accuracy_score(label_test, y_pred))"
   ]
  },
  {
   "cell_type": "code",
   "execution_count": null,
   "metadata": {
    "collapsed": true
   },
   "outputs": [],
   "source": []
  }
 ],
 "metadata": {
  "kernelspec": {
   "display_name": "Python 3",
   "language": "python",
   "name": "python3"
  },
  "language_info": {
   "codemirror_mode": {
    "name": "ipython",
    "version": 3
   },
   "file_extension": ".py",
   "mimetype": "text/x-python",
   "name": "python",
   "nbconvert_exporter": "python",
   "pygments_lexer": "ipython3",
   "version": "3.6.3"
  }
 },
 "nbformat": 4,
 "nbformat_minor": 2
}
